{
 "cells": [
  {
   "cell_type": "code",
   "execution_count": 33,
   "id": "adaptive-expense",
   "metadata": {},
   "outputs": [
    {
     "name": "stdout",
     "output_type": "stream",
     "text": [
      "Address is updated, something new will be update into database\n"
     ]
    },
    {
     "ename": "KeyboardInterrupt",
     "evalue": "",
     "output_type": "error",
     "traceback": [
      "\u001b[1;31m---------------------------------------------------------------------------\u001b[0m",
      "\u001b[1;31mKeyboardInterrupt\u001b[0m                         Traceback (most recent call last)",
      "\u001b[1;32m<ipython-input-33-7ef53ff95f12>\u001b[0m in \u001b[0;36m<module>\u001b[1;34m\u001b[0m\n\u001b[0;32m     25\u001b[0m \u001b[1;31m# Begin loop to update the file\u001b[0m\u001b[1;33m\u001b[0m\u001b[1;33m\u001b[0m\u001b[1;33m\u001b[0m\u001b[0m\n\u001b[0;32m     26\u001b[0m \u001b[1;32mwhile\u001b[0m \u001b[1;32mTrue\u001b[0m\u001b[1;33m:\u001b[0m\u001b[1;33m\u001b[0m\u001b[1;33m\u001b[0m\u001b[0m\n\u001b[1;32m---> 27\u001b[1;33m     \u001b[0mtime\u001b[0m\u001b[1;33m.\u001b[0m\u001b[0msleep\u001b[0m\u001b[1;33m(\u001b[0m\u001b[1;36m3\u001b[0m\u001b[1;33m)\u001b[0m\u001b[1;33m\u001b[0m\u001b[1;33m\u001b[0m\u001b[0m\n\u001b[0m\u001b[0;32m     28\u001b[0m     \u001b[0mfile_state\u001b[0m\u001b[1;33m(\u001b[0m\u001b[0mdicts\u001b[0m\u001b[1;33m,\u001b[0m \u001b[0mpath\u001b[0m\u001b[1;33m)\u001b[0m\u001b[1;33m\u001b[0m\u001b[1;33m\u001b[0m\u001b[0m\n\u001b[0;32m     29\u001b[0m     \u001b[1;32mfor\u001b[0m \u001b[0mi\u001b[0m \u001b[1;32min\u001b[0m \u001b[0mdicts\u001b[0m\u001b[1;33m:\u001b[0m\u001b[1;33m\u001b[0m\u001b[1;33m\u001b[0m\u001b[0m\n",
      "\u001b[1;31mKeyboardInterrupt\u001b[0m: "
     ]
    }
   ],
   "source": [
    "from arango import ArangoClient\n",
    "import json\n",
    "import os\n",
    "import time\n",
    "\n",
    "\n",
    "# Initialize the client for ArangoDB. And some other info need to type in\n",
    "client = ArangoClient(hosts=\"http://localhost:8529\")\n",
    "sys_db = client.db(\"Project\", username=\"root\", password=\"\")\n",
    "path='F:/NEU/DAMG7275/P3/other/'\n",
    "\n",
    "# Initial and See if any file change\n",
    "dicts = {}\n",
    "zd = {}\n",
    "def file_state(dic,path):\n",
    "    file = os.listdir(path)\n",
    "    for files in file:\n",
    "        file_path = path+files\n",
    "        if os.path.isfile(file_path):\n",
    "            dic[file_path] = os.path.getmtime(file_path)\n",
    "    return\n",
    "\n",
    "file_state(zd,path)\n",
    "\n",
    "# Begin loop to update the file\n",
    "while True:\n",
    "    time.sleep(3)\n",
    "    file_state(dicts, path)\n",
    "    for i in dicts:\n",
    "        if dicts[i] == zd[i]:\n",
    "            pass\n",
    "        else:\n",
    "            zd[i] = os.path.getmtime(i)\n",
    "            filepath, tmpfilename = os.path.split(i)\n",
    "            shotname, extension = os.path.splitext(tmpfilename)\n",
    "            print(shotname + \" is updated, something new will be update into database\")\n",
    "            coll = sys_db.collection(str(shotname)) #Open file and import into database\n",
    "            with open(i) as fd:\n",
    "                data = json.load(fd)\n",
    "            coll.import_bulk(documents=data, on_duplicate ='update')"
   ]
  }
 ],
 "metadata": {
  "kernelspec": {
   "display_name": "Python [conda env:root] *",
   "language": "python",
   "name": "conda-root-py"
  },
  "language_info": {
   "codemirror_mode": {
    "name": "ipython",
    "version": 3
   },
   "file_extension": ".py",
   "mimetype": "text/x-python",
   "name": "python",
   "nbconvert_exporter": "python",
   "pygments_lexer": "ipython3",
   "version": "3.8.5"
  }
 },
 "nbformat": 4,
 "nbformat_minor": 5
}
